{
 "cells": [
  {
   "cell_type": "markdown",
   "metadata": {},
   "source": [
    "Accuracy of custom random forest classifier on the spam data comes out to be 87.75%"
   ]
  },
  {
   "cell_type": "markdown",
   "metadata": {},
   "source": [
    "The accuracy of sklearn random forest classifier comes out to be 96%. The accuracy has been claculated for varying max_features technique."
   ]
  },
  {
   "cell_type": "markdown",
   "metadata": {},
   "source": [
    "OOB error decreases as we increase the number of estimators to split the data. The plot for various max_features techniques is shown below. 'log2' and 'sqrt' max_features perform better than splitting with all the features, as the no_of_estimators increase."
   ]
  },
  {
   "cell_type": "markdown",
   "metadata": {},
   "source": [
    "The code has been written along with brief comments on what the method/statememt does. PFB code."
   ]
  },
  {
   "cell_type": "code",
   "execution_count": 1,
   "metadata": {},
   "outputs": [
    {
     "name": "stderr",
     "output_type": "stream",
     "text": [
      "/usr/local/lib/python2.7/site-packages/sklearn/cross_validation.py:41: DeprecationWarning: This module was deprecated in version 0.18 in favor of the model_selection module into which all the refactored classes and functions are moved. Also note that the interface of the new CV iterators are different from that of this module. This module will be removed in 0.20.\n",
      "  \"This module will be removed in 0.20.\", DeprecationWarning)\n"
     ]
    }
   ],
   "source": [
    "from __future__ import division\n",
    "from sklearn import cross_validation\n",
    "from collections import Counter\n",
    "import random\n",
    "import traceback\n",
    "from scipy.stats import mode\n",
    "from sklearn.ensemble import RandomForestClassifier\n",
    "import numpy as np\n",
    "import pandas as pd\n",
    "from sklearn import preprocessing\n",
    "import matplotlib.pyplot as plt\n",
    "from collections import OrderedDict\n",
    "import time\n",
    "\n"
   ]
  },
  {
   "cell_type": "code",
   "execution_count": 2,
   "metadata": {},
   "outputs": [],
   "source": [
    "class CustomRandomForestClassifier(object):\n",
    "    #A custom made random forest classifier.\n",
    "\n",
    "    def __init__(self, n_estimators=100, max_features=np.sqrt, max_depth=10,\n",
    "        mino_of_samples_split=2, bootstrap=1):\n",
    "        \"\"\"\n",
    "        From sklearn website:\n",
    "\n",
    "            n_estimators: The number of decision trees in the forest.\n",
    "            max_features: Controls the number of features to randomly consider\n",
    "                at each split.\n",
    "            max_depth: The maximum number of levels that the tree can grow\n",
    "                downwards before forcefully becoming a leaf.\n",
    "            mino_of_samples_split: The minimum number of samples needed at a node to\n",
    "                justify a new node split.\n",
    "            bootstrap: The fraction of randomly choosen data to fit each tree on.\n",
    "        \"\"\"\n",
    "        \n",
    "        self.n_estimators = n_estimators\n",
    "        self.max_features = max_features\n",
    "        self.max_depth = max_depth\n",
    "        self.mino_of_samples_split = mino_of_samples_split\n",
    "        self.bootstrap = bootstrap\n",
    "        self.random_forest = []\n",
    "\n",
    "    def fit(self, X, y):\n",
    "        \"\"\" Fits the input data to a forest of decision trees using a random subset of data and\n",
    "            features. \"\"\"\n",
    "        self.random_forest = []\n",
    "        no_of_samples = len(y)\n",
    "        no_of_sub_samples = round(no_of_samples*self.bootstrap)\n",
    "        no_of_sub_samples = int(no_of_sub_samples)\n",
    "        \n",
    "        for i in xrange(self.n_estimators):\n",
    "        \tshuffle_as_per_data(X, y)\n",
    "       \t\tX_subset = X[:no_of_sub_samples]\n",
    "       \t\ty_subset = y[:no_of_sub_samples]\n",
    "       \t\ttree = DecisionTreeClassifier(self.max_features, self.max_depth,\n",
    "                                            self.mino_of_samples_split)\n",
    "        \ttree.fit(X_subset, y_subset)\n",
    "        \tself.random_forest.append(tree)\n",
    "        \t\n",
    "\n",
    "    def predict(self, X):\n",
    "        \"\"\" Predict the class of each sample in X. \"\"\"\n",
    "        no_of_samples = X.shape[0]\n",
    "        no_of_trees = len(self.random_forest)\n",
    "        predictions = np.empty([no_of_trees, no_of_samples])\n",
    "        for i in xrange(no_of_trees):\n",
    "            predictions[i] = self.random_forest[i].predict(X)\n",
    "\n",
    "        return mode(predictions)[0][0]\n",
    "\n",
    "\n",
    "    def score(self, X, y):\n",
    "        \"\"\" Return the accuracy of the prediction of X compared to y. \"\"\"\n",
    "        y_predict = self.predict(X)\n",
    "        no_of_samples = len(y)\n",
    "        correct = 0\n",
    "        for i in xrange(no_of_samples):\n",
    "            if y_predict[i] == y[i]:\n",
    "                correct = correct + 1\n",
    "        accuracy = correct/no_of_samples\n",
    "        return accuracy"
   ]
  },
  {
   "cell_type": "code",
   "execution_count": 3,
   "metadata": {},
   "outputs": [],
   "source": [
    "class DecisionTreeClassifier(object):\n",
    "    # A decision tree classifier class\n",
    "\n",
    "    def __init__(self, max_features=lambda x: x, max_depth=10,\n",
    "                    mino_of_samples_split=2):\n",
    "        \"\"\"\n",
    "        From sklearn website:\n",
    "\n",
    "            max_features: A function that controls the number of features to\n",
    "                randomly consider at each split. The argument will be the number\n",
    "                of features in the data.\n",
    "            max_depth: The maximum number of levels the tree can grow downwards\n",
    "                before forcefully becoming a leaf.\n",
    "            mino_of_samples_split: The minimum number of samples needed at a node to\n",
    "                justify a new node split.\n",
    "        \"\"\"\n",
    "\n",
    "        self.max_features = max_features\n",
    "        self.max_depth = max_depth\n",
    "        self.mino_of_samples_split = mino_of_samples_split\n",
    "\n",
    "\n",
    "    def fit(self, X, y):\n",
    "        \"\"\" Builds the tree by choosing decision rules for each node based on\n",
    "        the data \"\"\"\n",
    "\n",
    "        no_of_features = X.shape[1]\n",
    "        no_of_sub_features = int(self.max_features(no_of_features))\n",
    "        feature_indices = random.sample(xrange(no_of_features), no_of_sub_features)  \n",
    "        self.trunk = self.build_decision_tree(X, y, feature_indices, 0)\n",
    "\n",
    "\n",
    "    def predict(self, X):\n",
    "        \"\"\" Predict the class of each sample in X. \"\"\"\n",
    "\n",
    "        num_of_samples = X.shape[0]\n",
    "        y = np.empty(num_of_samples)\n",
    "        for j in xrange(num_of_samples):\n",
    "            node = self.trunk\n",
    "\n",
    "            while isinstance(node, Node):\n",
    "                if X[j][node.feature_index] <= node.threshold:\n",
    "                    node = node.positive_branch\n",
    "                else:\n",
    "                    node = node.negative_branch\n",
    "            y[j] = node\n",
    "\n",
    "        return y\n",
    "\n",
    "\n",
    "    def build_decision_tree(self, X, y, feature_indices, depth):\n",
    "        \"\"\" Recursivly builds a decision tree. \"\"\"\n",
    "\n",
    "        if depth is self.max_depth or len(y) < self.mino_of_samples_split or entropy(y) is 0:\n",
    "            return mode(y)[0][0]\n",
    "        \n",
    "        feature_index, threshold = best_split(X, y, feature_indices)\n",
    "\n",
    "        X_true, y_true, X_false, y_false = split(X, y, feature_index, threshold)\n",
    "        if y_true.shape[0] is 0 or y_false.shape[0] is 0:\n",
    "            return mode(y)[0][0]\n",
    "        \n",
    "        positive_branch = self.build_decision_tree(X_true, y_true, feature_indices, depth + 1)\n",
    "        negative_branch = self.build_decision_tree(X_false, y_false, feature_indices, depth + 1)\n",
    "\n",
    "        return Node(feature_index, threshold, positive_branch, negative_branch)\n"
   ]
  },
  {
   "cell_type": "code",
   "execution_count": 4,
   "metadata": {},
   "outputs": [],
   "source": [
    "def best_split(X, y, feature_indices):\n",
    "    \"\"\" Returns the best split rule for a tree node as per the information gain. \"\"\"\n",
    "\n",
    "    num_of_features = X.shape[1]\n",
    "\n",
    "    best_gain = 0\n",
    "    best_feature_index = 0\n",
    "    best_threshold = 0\n",
    "    for feature_index in feature_indices:\n",
    "        values = sorted(set(X[:, feature_index])) ### better way\n",
    "\n",
    "        for j in xrange(len(values) - 1):\n",
    "            threshold = (values[j] + values[j+1])/2\n",
    "            X_true, y_true, X_false, y_false = split(X, y, feature_index, threshold)\n",
    "            gain = information_gain(y, y_true, y_false)\n",
    "\n",
    "            if gain > best_gain:\n",
    "                best_gain = gain\n",
    "                best_feature_index = feature_index\n",
    "                best_threshold = threshold\n",
    "\n",
    "    return best_feature_index, best_threshold"
   ]
  },
  {
   "cell_type": "code",
   "execution_count": 5,
   "metadata": {},
   "outputs": [],
   "source": [
    "class Node(object):\n",
    "    #A node in a decision tree with the binary condition xi <= t.\n",
    "\n",
    "    def __init__(self, feature_index, threshold, positive_branch, negative_branch):\n",
    "        self.feature_index = feature_index\n",
    "        self.threshold = threshold\n",
    "        self.positive_branch = positive_branch\n",
    "        self.negative_branch = negative_branch"
   ]
  },
  {
   "cell_type": "code",
   "execution_count": 6,
   "metadata": {},
   "outputs": [],
   "source": [
    "def split(X, y, feature_index, threshold):\n",
    "    \"\"\" Splits X and y based on the binary condition xi <= threshold. \"\"\"\n",
    "\n",
    "    X_true = []\n",
    "    y_true = []\n",
    "    X_false = []\n",
    "    y_false = []\n",
    "\n",
    "    for j in xrange(len(y)):\n",
    "        if X[j][feature_index] <= threshold:\n",
    "            X_true.append(X[j])\n",
    "            y_true.append(y[j])\n",
    "        else:\n",
    "            X_false.append(X[j])\n",
    "            y_false.append(y[j])\n",
    "\n",
    "    X_true = np.array(X_true)\n",
    "    y_true = np.array(y_true)\n",
    "    X_false = np.array(X_false)\n",
    "    y_false = np.array(y_false)\n",
    "\n",
    "    return X_true, y_true, X_false, y_false"
   ]
  },
  {
   "cell_type": "code",
   "execution_count": 7,
   "metadata": {},
   "outputs": [],
   "source": [
    "def shuffle_as_per_data(a, b):\n",
    "    \"\"\" Shuffles two lists of equal length and keeps corresponding elements in the same index. \"\"\"\n",
    "    rng_state = np.random.get_state()\n",
    "    np.random.shuffle(a)\n",
    "    np.random.set_state(rng_state)\n",
    "    np.random.shuffle(b)"
   ]
  },
  {
   "cell_type": "code",
   "execution_count": 8,
   "metadata": {},
   "outputs": [],
   "source": [
    "def entropy(Y):\n",
    "    \"\"\" Returns the entropy \"\"\"\n",
    "    \n",
    "    distribution = Counter(Y)\n",
    "    s = 0.0\n",
    "    total = len(Y)\n",
    "    for y, num_y in distribution.items():\n",
    "        probability_y = (num_y/total)\n",
    "        s += (probability_y)*np.log(probability_y)\n",
    "    return -s\n",
    "\n",
    "\n",
    "def information_gain(y, y_true, y_false):\n",
    "    \"\"\" Returns the reduction in entropy from splitting data into two groups. \"\"\"\n",
    "    return entropy(y) - (entropy(y_true)*len(y_true) + entropy(y_false)*len(y_false))/len(y)"
   ]
  },
  {
   "cell_type": "code",
   "execution_count": 11,
   "metadata": {},
   "outputs": [
    {
     "name": "stdout",
     "output_type": "stream",
     "text": [
      "Training a random forest classifier, please wait..\n",
      "--- Time taken to train a random forest classifier is 4801.74912095 seconds ---\n",
      "Accuracy = 87.7536231884 % on the test data.\n"
     ]
    }
   ],
   "source": [
    "dataset=pd.read_csv(\"/Users/b0203050/Downloads/spam.data.txt\",delimiter=\" \") # Read data file\n",
    "\n",
    "X = dataset.iloc[:,0:56].as_matrix() #Independent Variables\n",
    "y = dataset.iloc[:,57].as_matrix()  #Dependent Variable\n",
    "min_max_scaler = preprocessing.MinMaxScaler()\n",
    "X = min_max_scaler.fit_transform(X) #Normalize/scale all data values\n",
    "\n",
    "\n",
    "X_train, X_test, y_train, y_test = cross_validation.train_test_split(X, y, test_size=0.30, random_state=10)\n",
    "#test-train split\n",
    "\n",
    "forest = CustomRandomForestClassifier()\n",
    "start_time = time.time()\n",
    "print \"Training a random forest classifier, please wait..\"\n",
    "forest.fit(X_train, y_train)\n",
    "print(\"--- Time taken to train a random forest classifier is %s seconds ---\" % (time.time() - start_time))\n",
    "\n",
    "accuracy = forest.score(X_test, y_test)\n",
    "print 'Accuracy =', 100*accuracy, '% on the test data.'"
   ]
  },
  {
   "cell_type": "code",
   "execution_count": 12,
   "metadata": {},
   "outputs": [
    {
     "name": "stdout",
     "output_type": "stream",
     "text": [
      "0.964492753623\n",
      "--- Time taken to train a random forest classifier with max features=sqrt is 0.645182847977 seconds ---\n",
      "0.958695652174\n",
      "--- Time taken to train a random forest classifier with max features=log2 is 0.491389989853 seconds ---\n",
      "0.973188405797\n",
      "--- Time taken to train a random forest classifier with max_features=n_features is 2.61129188538 seconds ---\n"
     ]
    }
   ],
   "source": [
    "#Compare time taken and accuracy with different techniques to select max_features\n",
    "\n",
    "clf = RandomForestClassifier(max_features='sqrt', n_estimators=100, max_depth=10, criterion='entropy', oob_score=True)\n",
    "start_time = time.time()\n",
    "clf.fit(X, y)\n",
    "print clf.score(X_test,y_test)\n",
    "print(\"--- Time taken to train a random forest classifier with max features=sqrt is %s seconds ---\" % (time.time() - start_time))\n",
    "\n",
    "start_time = time.time()\n",
    "clf = RandomForestClassifier(max_features='log2', n_estimators=100, max_depth=10, criterion='entropy', oob_score=True)\n",
    "clf.fit(X, y)\n",
    "print clf.score(X_test,y_test)\n",
    "print(\"--- Time taken to train a random forest classifier with max features=log2 is %s seconds ---\" % (time.time() - start_time))\n",
    "\n",
    "start_time = time.time()\n",
    "clf = RandomForestClassifier(max_features=None, n_estimators=100, max_depth=10, criterion='entropy', oob_score=True)\n",
    "clf.fit(X, y)\n",
    "print clf.score(X_test,y_test)\n",
    "print(\"--- Time taken to train a random forest classifier with max_features=n_features is %s seconds ---\" % (time.time() - start_time))\n"
   ]
  },
  {
   "cell_type": "code",
   "execution_count": 13,
   "metadata": {},
   "outputs": [
    {
     "name": "stderr",
     "output_type": "stream",
     "text": [
      "/usr/local/lib/python2.7/site-packages/sklearn/ensemble/forest.py:453: UserWarning: Some inputs do not have OOB scores. This probably means too few trees were used to compute any reliable oob estimates.\n",
      "  warn(\"Some inputs do not have OOB scores. \"\n",
      "/usr/local/lib/python2.7/site-packages/sklearn/ensemble/forest.py:458: RuntimeWarning: invalid value encountered in true_divide\n",
      "  predictions[k].sum(axis=1)[:, np.newaxis])\n"
     ]
    },
    {
     "data": {
      "image/png": "[encoded data removed]",
      "text/plain": [
       "<Figure size 432x288 with 1 Axes>"
      ]
     },
     "metadata": {
      "needs_background": "light"
     },
     "output_type": "display_data"
    }
   ],
   "source": [
    "plot_different_clfs = [ (\"RandomForestClassifier, max_features='sqrt'\", RandomForestClassifier(n_estimators=100, warm_start=True, oob_score=True, max_features=\"sqrt\", random_state=0)), (\"RandomForestClassifier, max_features='log2'\", RandomForestClassifier(n_estimators=100, warm_start=True, max_features='log2', oob_score=True, random_state=0)), (\"RandomForestClassifier, max_features=None\", RandomForestClassifier(n_estimators=100, warm_start=True, max_features=None, oob_score=True, random_state=0)) ]\n",
    "\n",
    "# Map a classifier name to a list of (<n_estimators>, <error rate>) pairs.\n",
    "error_rate = OrderedDict((label, []) for label, _ in plot_different_clfs)\n",
    "\n",
    "# Range of `n_estimators` values to explore.\n",
    "min_estimators = 5\n",
    "max_estimators = 50\n",
    "\n",
    "for label, clf in plot_different_clfs:\n",
    "    for i in range(min_estimators, max_estimators + 1):\n",
    "        clf.set_params(n_estimators=i)\n",
    "        clf.fit(X, y)\n",
    "\n",
    "        # Record the OOB error for each `n_estimators=i` setting.\n",
    "        oob_error = 1 - clf.oob_score_\n",
    "        error_rate[label].append((i, oob_error))\n",
    "\n",
    "# Generate the \"OOB error rate\" vs. \"n_estimators\" plot.\n",
    "for label, clf_err in error_rate.items():\n",
    "    xs, ys = zip(*clf_err)\n",
    "    plt.plot(xs, ys, label=label)\n",
    "\n",
    "plt.xlim(min_estimators, max_estimators)\n",
    "plt.xlabel(\"n_estimators\")\n",
    "plt.ylabel(\"OOB error rate\")\n",
    "plt.legend(loc=\"upper right\")\n",
    "plt.show()"
   ]
  },
  {
   "cell_type": "code",
   "execution_count": null,
   "metadata": {},
   "outputs": [],
   "source": []
  }
 ],
 "metadata": {
  "kernelspec": {
   "display_name": "Python 2",
   "language": "python",
   "name": "python2"
  },
  "language_info": {
   "codemirror_mode": {
    "name": "ipython",
    "version": 2
   },
   "file_extension": ".py",
   "mimetype": "text/x-python",
   "name": "python",
   "nbconvert_exporter": "python",
   "pygments_lexer": "ipython2",
   "version": "2.7.15"
  }
 },
 "nbformat": 4,
 "nbformat_minor": 2
}
